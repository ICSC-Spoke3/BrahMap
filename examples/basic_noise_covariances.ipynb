{
 "cells": [
  {
   "cell_type": "markdown",
   "id": "fabb1946",
   "metadata": {},
   "source": [
    "## Basic noise covariance operators (and their inverse) \n",
    "\n",
    "This notebook shows how to create the basic noise covariance operators and their inverse. While creating the noise operators, we assume that the noise is stationary in time. All (inverse) noise covariance operators offer an attribute `diag` that can be used to retrieve the diagonal of the operator, and a method `get_inverse()` that simply returns the inverse of the operator.\n",
    "\n",
    "All noise covariance operators and their inverses are defined locally. This means that, for consistency, the user must ensure that the noise covariance and its inverse defined on each MPI process correspond to the Time-Ordered Data (TOD) available locally on that process.\n",
    "\n",
    "Unless otherwise mentioned explicitly, all (inverse) noise covariance operators can be defined using following arguments:\n",
    "\n",
    "- `size`  \n",
    "    The dimension of the operator\n",
    "- `input`  \n",
    "    The input array containing the noise property in terms of noise covariance or power spectrum\n",
    "- `input_type`  \n",
    "    The name of the noise property. If `input` argument contains the noise covariance, `input_type` must be `\"covariance\"`. Likewise, if the `input` argument contains the power spectrum array, the `input_type` must be `power_spectrum`.\n",
    "- `dtype`  \n",
    "    The data-type of the operator\n"
   ]
  },
  {
   "cell_type": "markdown",
   "id": "fb8f5dfe",
   "metadata": {},
   "source": [
    "<div class=\"alert alert-block alert-warning\">\n",
    "\n",
    "**NOTE**  \n",
    "The linear operators defined in BrahMap can be visualized using the `brahmap.utilities.plot_LinearOperator()` function. This function requires `matplotlib` to be installed. However, it must be used very carefully, as it allocates a large array in memory - matching the dimensions of the linear operator - which can quickly crash your system. In these examples, we use this function because our operators are very small.\n",
    "\n",
    "</div>\n"
   ]
  },
  {
   "cell_type": "code",
   "execution_count": 1,
   "id": "6e3c5f1d",
   "metadata": {},
   "outputs": [
    {
     "name": "stderr",
     "output_type": "stream",
     "text": [
      "hwloc/linux: Ignoring PCI device with non-16bit domain.\n",
      "Pass --enable-32bits-pci-domain to configure to support such devices\n",
      "(warning: it would break the library ABI, don't enable unless really needed).\n"
     ]
    }
   ],
   "source": [
    "import brahmap\n",
    "from brahmap.utilities import plot_LinearOperator\n",
    "import numpy as np"
   ]
  },
  {
   "cell_type": "code",
   "execution_count": null,
   "id": "f09c1ad3",
   "metadata": {},
   "outputs": [],
   "source": []
  },
  {
   "cell_type": "code",
   "execution_count": null,
   "id": "2934d21c-e945-4b2b-a61c-7e1ca9e67f16",
   "metadata": {},
   "outputs": [],
   "source": []
  },
  {
   "cell_type": "markdown",
   "id": "1b05afb7",
   "metadata": {},
   "source": [
    "### Diagonal noise covariance"
   ]
  },
  {
   "cell_type": "code",
   "execution_count": 2,
   "id": "c2662f9f",
   "metadata": {},
   "outputs": [
    {
     "data": {
      "image/png": "[encoded data removed]",
      "text/plain": [
       "<Figure size 640x480 with 2 Axes>"
      ]
     },
     "metadata": {},
     "output_type": "display_data"
    }
   ],
   "source": [
    "### Diagonal noise covariance operator with noise variance 3.5\n",
    "\n",
    "diag_noise_cov = brahmap.NoiseCovLO_Diagonal(\n",
    "    size=10,\n",
    "    input=3.5,  # White noise variance\n",
    "    input_type=\"covariance\",\n",
    "    dtype=np.float32,\n",
    ")\n",
    "\n",
    "### Visualizing the operator\n",
    "plot_LinearOperator(diag_noise_cov)"
   ]
  },
  {
   "cell_type": "code",
   "execution_count": 3,
   "id": "f93e14ce",
   "metadata": {},
   "outputs": [
    {
     "data": {
      "image/png": "[encoded data removed]",
      "text/plain": [
       "<Figure size 640x480 with 2 Axes>"
      ]
     },
     "metadata": {},
     "output_type": "display_data"
    }
   ],
   "source": [
    "### Inverse of diagonal noise covariance operator with noise variance 3.5\n",
    "\n",
    "inv_diag_noise_cov = brahmap.InvNoiseCovLO_Diagonal(\n",
    "    size=10,\n",
    "    input=3.5,  # White noise variance\n",
    "    input_type=\"covariance\",\n",
    "    dtype=np.float32,\n",
    ")\n",
    "\n",
    "### Visualizing the operator\n",
    "plot_LinearOperator(diag_noise_cov)"
   ]
  },
  {
   "cell_type": "code",
   "execution_count": 4,
   "id": "002b1ad3",
   "metadata": {},
   "outputs": [
    {
     "name": "stdout",
     "output_type": "stream",
     "text": [
      "[[1. 0. 0. 0. 0. 0. 0. 0. 0. 0.]\n",
      " [0. 1. 0. 0. 0. 0. 0. 0. 0. 0.]\n",
      " [0. 0. 1. 0. 0. 0. 0. 0. 0. 0.]\n",
      " [0. 0. 0. 1. 0. 0. 0. 0. 0. 0.]\n",
      " [0. 0. 0. 0. 1. 0. 0. 0. 0. 0.]\n",
      " [0. 0. 0. 0. 0. 1. 0. 0. 0. 0.]\n",
      " [0. 0. 0. 0. 0. 0. 1. 0. 0. 0.]\n",
      " [0. 0. 0. 0. 0. 0. 0. 1. 0. 0.]\n",
      " [0. 0. 0. 0. 0. 0. 0. 0. 1. 0.]\n",
      " [0. 0. 0. 0. 0. 0. 0. 0. 0. 1.]]\n"
     ]
    }
   ],
   "source": [
    "### We can verify that the product of the two operators is an identity\n",
    "\n",
    "mat_prod_diag = (diag_noise_cov * inv_diag_noise_cov).to_array()\n",
    "print(mat_prod_diag)"
   ]
  },
  {
   "cell_type": "code",
   "execution_count": null,
   "id": "70beaafd",
   "metadata": {},
   "outputs": [],
   "source": []
  },
  {
   "cell_type": "code",
   "execution_count": null,
   "id": "ddb30360",
   "metadata": {},
   "outputs": [],
   "source": []
  },
  {
   "cell_type": "markdown",
   "id": "87bf3699",
   "metadata": {},
   "source": [
    "### Circulant noise covariance"
   ]
  },
  {
   "cell_type": "code",
   "execution_count": 5,
   "id": "843d2850",
   "metadata": {},
   "outputs": [],
   "source": [
    "### Defining circulant covariance array and power spectrum\n",
    "\n",
    "# Size of the covariance operator\n",
    "size_circ = 10\n",
    "\n",
    "# Generate a simple 1/f spectrum\n",
    "freqs_circ = np.fft.fftfreq(size_circ)\n",
    "power_spec_circ = np.zeros(size_circ)\n",
    "power_spec_circ[1:] = 1.0 / np.abs(freqs_circ[1:])\n",
    "power_spec_circ[0] = 50\n",
    "\n",
    "# Compute the self covariance from power spectrum\n",
    "noise_cov_circ = np.fft.ifft(power_spec_circ).real"
   ]
  },
  {
   "cell_type": "code",
   "execution_count": 6,
   "id": "c814b11c",
   "metadata": {},
   "outputs": [],
   "source": [
    "### Defining circulant noise covariance operator with self covariance as input\n",
    "circulant_noise_cov1 = brahmap.NoiseCovLO_Circulant(\n",
    "    size=size_circ,\n",
    "    input=noise_cov_circ,\n",
    "    input_type=\"covariance\",\n",
    "    dtype=np.float32,\n",
    ")\n",
    "\n",
    "\n",
    "### Defining circulant noise covariance operator with power spectrum as input\n",
    "circulant_noise_cov2 = brahmap.NoiseCovLO_Circulant(\n",
    "    size=size_circ,\n",
    "    input=power_spec_circ,\n",
    "    input_type=\"power_spectrum\",\n",
    "    dtype=np.float32,\n",
    ")"
   ]
  },
  {
   "cell_type": "code",
   "execution_count": 7,
   "id": "f91f1630",
   "metadata": {},
   "outputs": [
    {
     "data": {
      "image/png": "[encoded data removed]",
      "text/plain": [
       "<Figure size 640x480 with 2 Axes>"
      ]
     },
     "metadata": {},
     "output_type": "display_data"
    },
    {
     "data": {
      "image/png": "[encoded data removed]",
      "text/plain": [
       "<Figure size 640x480 with 2 Axes>"
      ]
     },
     "metadata": {},
     "output_type": "display_data"
    }
   ],
   "source": [
    "### Visualizing the two covariance operators\n",
    "plot_LinearOperator(circulant_noise_cov1)\n",
    "plot_LinearOperator(circulant_noise_cov2)"
   ]
  },
  {
   "cell_type": "code",
   "execution_count": 8,
   "id": "1eff0adc",
   "metadata": {},
   "outputs": [],
   "source": [
    "### We can verify that the two operators defined above are equal\n",
    "\n",
    "np.testing.assert_allclose(\n",
    "    circulant_noise_cov2.to_array(),\n",
    "    circulant_noise_cov1.to_array(),\n",
    "    rtol=1.0e-5,\n",
    "    atol=1.0e-8,\n",
    ")"
   ]
  },
  {
   "cell_type": "code",
   "execution_count": null,
   "id": "5eda1b98",
   "metadata": {},
   "outputs": [],
   "source": []
  },
  {
   "cell_type": "code",
   "execution_count": 9,
   "id": "81304b8e",
   "metadata": {},
   "outputs": [],
   "source": [
    "### Defining inverse circulant noise covariance operator with self covariance as input\n",
    "inv_circulant_noise_cov1 = brahmap.InvNoiseCovLO_Circulant(\n",
    "    size=size_circ,\n",
    "    input=noise_cov_circ,\n",
    "    input_type=\"covariance\",\n",
    "    dtype=np.float32,\n",
    ")\n",
    "\n",
    "\n",
    "### Defining inverse circulant noise covariance operator with power spectrum as input\n",
    "inv_circulant_noise_cov2 = brahmap.InvNoiseCovLO_Circulant(\n",
    "    size=size_circ,\n",
    "    input=power_spec_circ,\n",
    "    input_type=\"power_spectrum\",\n",
    "    dtype=np.float32,\n",
    ")"
   ]
  },
  {
   "cell_type": "code",
   "execution_count": 10,
   "id": "c7a8ca18",
   "metadata": {},
   "outputs": [
    {
     "data": {
      "image/png": "[encoded data removed]",
      "text/plain": [
       "<Figure size 640x480 with 2 Axes>"
      ]
     },
     "metadata": {},
     "output_type": "display_data"
    },
    {
     "data": {
      "image/png": "[encoded data removed]",
      "text/plain": [
       "<Figure size 640x480 with 2 Axes>"
      ]
     },
     "metadata": {},
     "output_type": "display_data"
    }
   ],
   "source": [
    "### Visualizing the two inverse covariance operators\n",
    "plot_LinearOperator(inv_circulant_noise_cov1)\n",
    "plot_LinearOperator(inv_circulant_noise_cov2)"
   ]
  },
  {
   "cell_type": "code",
   "execution_count": 11,
   "id": "d93c939e",
   "metadata": {},
   "outputs": [],
   "source": [
    "### We can verify that the two inverse operators defined above are equal\n",
    "\n",
    "np.testing.assert_allclose(\n",
    "    inv_circulant_noise_cov2.to_array(),\n",
    "    inv_circulant_noise_cov1.to_array(),\n",
    "    rtol=1.0e-5,\n",
    "    atol=1.0e-8,\n",
    ")"
   ]
  },
  {
   "cell_type": "code",
   "execution_count": null,
   "id": "77ff551e",
   "metadata": {},
   "outputs": [],
   "source": []
  },
  {
   "cell_type": "code",
   "execution_count": 12,
   "id": "e30c4c11",
   "metadata": {},
   "outputs": [
    {
     "name": "stdout",
     "output_type": "stream",
     "text": [
      "[[ 1. -0. -0. -0. -0. -0. -0. -0. -0. -0.]\n",
      " [-0.  1. -0. -0. -0. -0. -0. -0. -0. -0.]\n",
      " [-0. -0.  1. -0. -0. -0. -0. -0. -0. -0.]\n",
      " [-0. -0. -0.  1. -0. -0. -0. -0. -0. -0.]\n",
      " [-0. -0. -0. -0.  1. -0. -0. -0. -0. -0.]\n",
      " [-0. -0. -0. -0. -0.  1. -0. -0. -0. -0.]\n",
      " [-0. -0. -0. -0. -0. -0.  1. -0. -0. -0.]\n",
      " [-0. -0. -0. -0. -0. -0. -0.  1. -0. -0.]\n",
      " [-0. -0. -0. -0. -0. -0. -0. -0.  1. -0.]\n",
      " [-0. -0. -0. -0. -0. -0. -0. -0. -0.  1.]]\n"
     ]
    }
   ],
   "source": [
    "### We can also verify that the product of the noise covariance and the inverse noise covariance is an identity\n",
    "\n",
    "mat_prod_circ = (circulant_noise_cov1 * inv_circulant_noise_cov1).to_array()\n",
    "print(np.round(mat_prod_circ, decimals=6))"
   ]
  },
  {
   "cell_type": "code",
   "execution_count": null,
   "id": "d59ca9f1",
   "metadata": {},
   "outputs": [],
   "source": []
  },
  {
   "cell_type": "code",
   "execution_count": null,
   "id": "38d30c88",
   "metadata": {},
   "outputs": [],
   "source": []
  },
  {
   "cell_type": "markdown",
   "id": "722380e1",
   "metadata": {},
   "source": [
    "### Toeplitz noise covariance"
   ]
  },
  {
   "cell_type": "code",
   "execution_count": 13,
   "id": "6813793a",
   "metadata": {},
   "outputs": [],
   "source": [
    "### Defining covariance array and power spectrum\n",
    "\n",
    "# Size of the covariance operator\n",
    "size_toep = 15\n",
    "\n",
    "# Size of the power spectrum for the input of Toeplitz operator must be 2N-2 or 2N-1 where N is the dimension of the Toeplitz operator\n",
    "ps_size_toep = 2 * size_toep - 1\n",
    "\n",
    "# Generate a simple 1/f spectrum\n",
    "freqs_toep = np.fft.fftfreq(ps_size_toep)\n",
    "power_spec_toep = np.zeros(ps_size_toep)\n",
    "power_spec_toep[1:] = 1.0 / np.abs(freqs_toep[1:])\n",
    "power_spec_toep[0] = 50\n",
    "\n",
    "# Compute the self covariance from power spectrum\n",
    "noise_cov_toep = np.fft.ifft(power_spec_toep).real[:size_toep]"
   ]
  },
  {
   "cell_type": "code",
   "execution_count": 14,
   "id": "7f989d09",
   "metadata": {},
   "outputs": [],
   "source": [
    "### Defining Toeplitz noise covariance operator with self covariance as input\n",
    "toeplitz_noise_cov1 = brahmap.NoiseCovLO_Toeplitz01(\n",
    "    size=size_toep,\n",
    "    input=noise_cov_toep,\n",
    "    input_type=\"covariance\",\n",
    "    dtype=np.float32,\n",
    ")\n",
    "\n",
    "\n",
    "### Defining Toeplitz noise covariance operator with power spectrum as input\n",
    "toeplitz_noise_cov2 = brahmap.NoiseCovLO_Toeplitz01(\n",
    "    size=size_toep,\n",
    "    input=power_spec_toep,\n",
    "    input_type=\"power_spectrum\",\n",
    "    dtype=np.float32,\n",
    ")"
   ]
  },
  {
   "cell_type": "code",
   "execution_count": 15,
   "id": "e59c00d4",
   "metadata": {},
   "outputs": [
    {
     "data": {
      "image/png": "[encoded data removed]",
      "text/plain": [
       "<Figure size 640x480 with 2 Axes>"
      ]
     },
     "metadata": {},
     "output_type": "display_data"
    },
    {
     "data": {
      "image/png": "[encoded data removed]",
      "text/plain": [
       "<Figure size 640x480 with 2 Axes>"
      ]
     },
     "metadata": {},
     "output_type": "display_data"
    }
   ],
   "source": [
    "### Visualizing the two covariance operators\n",
    "plot_LinearOperator(toeplitz_noise_cov1)\n",
    "plot_LinearOperator(toeplitz_noise_cov2)"
   ]
  },
  {
   "cell_type": "code",
   "execution_count": 16,
   "id": "79b62533",
   "metadata": {},
   "outputs": [],
   "source": [
    "### We can verify that the two operators defined above are equal\n",
    "\n",
    "np.testing.assert_allclose(\n",
    "    toeplitz_noise_cov2.to_array(),\n",
    "    toeplitz_noise_cov1.to_array(),\n",
    "    rtol=1.0e-5,\n",
    "    atol=1.0e-8,\n",
    ")"
   ]
  },
  {
   "cell_type": "code",
   "execution_count": null,
   "id": "7dc7eec9",
   "metadata": {},
   "outputs": [],
   "source": []
  },
  {
   "cell_type": "code",
   "execution_count": 17,
   "id": "2804312f",
   "metadata": {},
   "outputs": [],
   "source": [
    "### Defining inverse Toeplitz noise covariance operator with self covariance as input\n",
    "inv_toeplitz_noise_cov1 = brahmap.InvNoiseCovLO_Toeplitz01(\n",
    "    size=size_toep,\n",
    "    input=noise_cov_toep,\n",
    "    input_type=\"covariance\",\n",
    "    dtype=np.float32,\n",
    ")\n",
    "\n",
    "\n",
    "### Defining inverse Toeplitz noise covariance operator with power spectrum as input\n",
    "inv_toeplitz_noise_cov2 = brahmap.InvNoiseCovLO_Toeplitz01(\n",
    "    size=size_toep,\n",
    "    input=power_spec_toep,\n",
    "    input_type=\"power_spectrum\",\n",
    "    dtype=np.float32,\n",
    ")"
   ]
  },
  {
   "cell_type": "code",
   "execution_count": 18,
   "id": "80415234",
   "metadata": {},
   "outputs": [
    {
     "data": {
      "image/png": "[encoded data removed]",
      "text/plain": [
       "<Figure size 640x480 with 2 Axes>"
      ]
     },
     "metadata": {},
     "output_type": "display_data"
    },
    {
     "data": {
      "image/png": "[encoded data removed]",
      "text/plain": [
       "<Figure size 640x480 with 2 Axes>"
      ]
     },
     "metadata": {},
     "output_type": "display_data"
    }
   ],
   "source": [
    "### Visualizing the two inverse covariance operators\n",
    "plot_LinearOperator(inv_toeplitz_noise_cov1)\n",
    "plot_LinearOperator(inv_toeplitz_noise_cov2)"
   ]
  },
  {
   "cell_type": "code",
   "execution_count": 19,
   "id": "467c50dd",
   "metadata": {},
   "outputs": [],
   "source": [
    "### We can verify that the two inverse operators defined above are equal\n",
    "\n",
    "np.testing.assert_allclose(\n",
    "    inv_toeplitz_noise_cov2.to_array(),\n",
    "    inv_toeplitz_noise_cov1.to_array(),\n",
    "    rtol=1.0e-4,\n",
    "    atol=1.0e-8,\n",
    ")"
   ]
  },
  {
   "cell_type": "code",
   "execution_count": null,
   "id": "90c00aa6",
   "metadata": {},
   "outputs": [],
   "source": []
  },
  {
   "cell_type": "code",
   "execution_count": 20,
   "id": "8e422bdc",
   "metadata": {},
   "outputs": [
    {
     "name": "stdout",
     "output_type": "stream",
     "text": [
      "[[ 1.  0.  0.  0. -0. -0.  0. -0.  0.  0. -0. -0.  0.  0. -0.]\n",
      " [ 0.  1. -0. -0.  0.  0. -0. -0. -0. -0.  0. -0. -0. -0.  0.]\n",
      " [ 0. -0.  1. -0.  0.  0.  0. -0. -0. -0. -0.  0. -0. -0.  0.]\n",
      " [ 0. -0. -0.  1. -0.  0. -0.  0.  0.  0. -0. -0.  0. -0. -0.]\n",
      " [ 0.  0. -0.  0.  1. -0. -0. -0. -0.  0. -0. -0. -0.  0. -0.]\n",
      " [-0.  0. -0.  0.  0.  1. -0. -0. -0. -0. -0.  0.  0. -0.  0.]\n",
      " [ 0. -0.  0. -0. -0.  0.  1. -0. -0. -0.  0.  0.  0. -0. -0.]\n",
      " [ 0.  0. -0. -0. -0. -0. -0.  1. -0. -0. -0. -0. -0.  0.  0.]\n",
      " [-0. -0.  0.  0.  0. -0. -0. -0.  1.  0. -0. -0.  0. -0.  0.]\n",
      " [ 0. -0.  0.  0. -0. -0.  0. -0. -0.  1.  0.  0. -0.  0. -0.]\n",
      " [-0.  0. -0.  0. -0.  0. -0. -0. -0. -0.  1.  0. -0.  0.  0.]\n",
      " [-0. -0.  0. -0. -0.  0.  0.  0. -0.  0. -0.  1.  0. -0. -0.]\n",
      " [ 0. -0. -0.  0. -0. -0. -0. -0.  0.  0.  0. -0.  1. -0.  0.]\n",
      " [ 0. -0. -0. -0.  0. -0. -0. -0. -0.  0.  0. -0. -0.  1.  0.]\n",
      " [-0.  0.  0. -0. -0.  0.  0. -0.  0. -0. -0.  0.  0.  0.  1.]]\n"
     ]
    }
   ],
   "source": [
    "### We can also verify that the product of the noise covariance and the inverse noise covariance is an identity\n",
    "\n",
    "mat_prod_toep = (toeplitz_noise_cov1 * inv_toeplitz_noise_cov1).to_array()\n",
    "print(np.round(mat_prod_toep, decimals=5))"
   ]
  },
  {
   "cell_type": "code",
   "execution_count": null,
   "id": "d4f56a85",
   "metadata": {},
   "outputs": [],
   "source": []
  }
 ],
 "metadata": {
  "kernelspec": {
   "display_name": "brahmap_beta",
   "language": "python",
   "name": "python3"
  },
  "language_info": {
   "codemirror_mode": {
    "name": "ipython",
    "version": 3
   },
   "file_extension": ".py",
   "mimetype": "text/x-python",
   "name": "python",
   "nbconvert_exporter": "python",
   "pygments_lexer": "ipython3",
   "version": "3.11.11"
  }
 },
 "nbformat": 4,
 "nbformat_minor": 5
}
